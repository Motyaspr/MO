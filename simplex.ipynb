{
 "cells": [
  {
   "cell_type": "code",
   "execution_count": 1,
   "metadata": {},
   "outputs": [],
   "source": [
    "import numpy as np"
   ]
  },
  {
   "cell_type": "code",
   "execution_count": 110,
   "metadata": {},
   "outputs": [],
   "source": [
    "EPS = 1e-10\n",
    "\n",
    "class LPSolver:\n",
    "    def __init__(self, A, b, c):\n",
    "        self.m = len(b)\n",
    "        self.n = len(c)\n",
    "        self.N = list(range(self.n)) + [-1]\n",
    "        self.B = list(range(self.n, self.n + self.m))\n",
    "        self.D = A\n",
    "        for i in range(self.m):\n",
    "            self.D[i] += [-1, b[i]]\n",
    "        self.D += [(-np.array(c)).tolist() + [0, 0]]\n",
    "        self.D += [[0] * (self.n) + [1, 0]]\n",
    "        self.D = np.array(self.D, dtype=np.float64)\n",
    "        self.N = np.array(self.N, dtype=np.int32)\n",
    "        self.B = np.array(self.B, dtype=np.int32)\n",
    "        \n",
    "    def pivot(self, r, s):\n",
    "        inv = 1 / self.D[r][s]\n",
    "        for i in range(self.m + 2):\n",
    "            if i != r and abs(self.D[i][s]) > EPS:\n",
    "                inv2 = self.D[i][s] * inv\n",
    "                self.D[i] -= self.D[r] * inv2\n",
    "                self.D[i][s] = self.D[r][s] * inv2\n",
    "        self.D[r, :] *= inv\n",
    "        self.D[:, s] *= -inv\n",
    "        self.D[r][s] = inv\n",
    "        self.B[r], self.N[s] = self.N[s], self.B[r]\n",
    "        \n",
    "    def simplex(self, phase):\n",
    "        x = self.m + phase - 1\n",
    "        while True:\n",
    "            s = min((j for j in range(self.n + 1) if self.N[j] != -phase),\n",
    "                    key = lambda j: (self.D[x][j], self.N[j]))\n",
    "            if self.D[x][s] >= -EPS:\n",
    "                return True\n",
    "            ris = [i for i in range(self.m) if self.D[i][s] >= EPS]\n",
    "            if len(ris) == 0:\n",
    "                return False\n",
    "            r = min(ris, key = lambda i: (self.D[i][self.n + 1] / self.D[i][s], self.B[i]))\n",
    "            self.pivot(r, s)\n",
    "                    \n",
    "    def solve(self):\n",
    "        r = min(range(self.m), key = lambda i: self.D[i][self.n + 1])\n",
    "        if self.D[r][self.n + 1] < -EPS:\n",
    "            self.pivot(r, self.n)\n",
    "            if not self.simplex(2) or self.D[self.m + 1][self.n + 1] < -EPS:\n",
    "                return -np.inf\n",
    "            for i in range(self.m):\n",
    "                if self.B[i] == -1:\n",
    "                    s = min(range(self.n + 1),\n",
    "                           key = lambda j: (self.D[i][j], self.N[j]))\n",
    "                    self.pivot(i, s)\n",
    "        ok = self.simplex(1)\n",
    "        x = np.zeros(self.n)\n",
    "        if ok:\n",
    "            for i in range(self.m):\n",
    "                if self.B[i] < self.n:\n",
    "                    x[self.B[i]] = self.D[i][self.n + 1]\n",
    "        return (self.D[self.m][self.n + 1], x) if ok else np.inf"
   ]
  },
  {
   "cell_type": "code",
   "execution_count": 111,
   "metadata": {},
   "outputs": [
    {
     "data": {
      "text/plain": [
       "(5.0, array([0., 0., 1., 1.]))"
      ]
     },
     "execution_count": 111,
     "metadata": {},
     "output_type": "execute_result"
    }
   ],
   "source": [
    "solver = LPSolver([[2, -1, 1, 0],\n",
    "                   [-2, 1, -1, 0],\n",
    "                   [-1, 2, 0, 1],\n",
    "                   [1, -2, 0, -1]],\n",
    "                  [1, -1, 1, -1],\n",
    "                  [-1, -1, 2, 3])\n",
    "solver.solve()"
   ]
  },
  {
   "cell_type": "code",
   "execution_count": 112,
   "metadata": {},
   "outputs": [
    {
     "data": {
      "text/plain": [
       "(4.0, array([0., 4., 0., 0.]))"
      ]
     },
     "execution_count": 112,
     "metadata": {},
     "output_type": "execute_result"
    }
   ],
   "source": [
    "# TEST 1\n",
    "solver = LPSolver([[3, 1, -1, 1],\n",
    "                   [-3, -1, 1, -1],\n",
    "                   [5, 1, 1, -1],\n",
    "                   [-5, -1, -1, 1]],\n",
    "                  [4, -4, 4, -4],\n",
    "                  [6, 1, 4, -5])\n",
    "solver.solve()"
   ]
  },
  {
   "cell_type": "code",
   "execution_count": 120,
   "metadata": {},
   "outputs": [
    {
     "data": {
      "text/plain": [
       "(6.0, array([2., 2., 0., 0.]))"
      ]
     },
     "execution_count": 120,
     "metadata": {},
     "output_type": "execute_result"
    }
   ],
   "source": [
    "# TEST 2\n",
    "solver = LPSolver([[1, -3, -1, -2],\n",
    "                   [-1, 3, 1, 2],\n",
    "                   [1, -1, 1, 0],\n",
    "                   [-1, 1, -1, 0]],\n",
    "                  [-4, 4, 0, 0],\n",
    "                  [1, 2, 3, -1])\n",
    "solver.solve()"
   ]
  },
  {
   "cell_type": "code",
   "execution_count": 114,
   "metadata": {},
   "outputs": [
    {
     "data": {
      "text/plain": [
       "(10.999999999999998, array([3., 2., 4., 0., 0.]))"
      ]
     },
     "execution_count": 114,
     "metadata": {},
     "output_type": "execute_result"
    }
   ],
   "source": [
    "# TEST 3\n",
    "solver = LPSolver([[1, 1, 0, 2, 1],\n",
    "                   [-1, -1, 0, -2, -1],\n",
    "                   [1, 1, 1, 3, 2],\n",
    "                   [-1, -1, -1, -3, -2],\n",
    "                   [0, 1, 1, 2, 1],\n",
    "                   [0, -1, -1, -2, -1]],\n",
    "                  [5, -5, 9, -9, 6, -6],\n",
    "                  [1, 2, 1, -3, 1])\n",
    "solver.solve()"
   ]
  },
  {
   "cell_type": "code",
   "execution_count": 115,
   "metadata": {},
   "outputs": [
    {
     "data": {
      "text/plain": [
       "(10.0, array([4., 0., 0., 1., 7.]))"
      ]
     },
     "execution_count": 115,
     "metadata": {},
     "output_type": "execute_result"
    }
   ],
   "source": [
    "# TEST 4\n",
    "solver = LPSolver([[1, 1, 2, 0, 0],\n",
    "                   [-1, -1, -2, 0, 0],\n",
    "                   [0, -2, -2, 1, -1],\n",
    "                   [0, 2, 2, -1, 1],\n",
    "                   [1, -1, 6, 1, 1],\n",
    "                   [-1, 1, -6, -1, -1]],\n",
    "                  [4, -4, -6, 6, 12, -12],\n",
    "                  [1, 1, 1, -1, 1])\n",
    "solver.solve()"
   ]
  },
  {
   "cell_type": "code",
   "execution_count": 116,
   "metadata": {},
   "outputs": [
    {
     "data": {
      "text/plain": [
       "(4.0, array([1., 0., 1., 0.]))"
      ]
     },
     "execution_count": 116,
     "metadata": {},
     "output_type": "execute_result"
    }
   ],
   "source": [
    "# TEST 5\n",
    "solver = LPSolver([[1, 1, -1, -10],\n",
    "                   [-1, -1, 1, 10],\n",
    "                   [1, 14, 10, -10],\n",
    "                   [-1, -14, -10, 10]],\n",
    "                  [0, 0, 11, -11],\n",
    "                  [1, -4, 3, -10])\n",
    "solver.solve()"
   ]
  },
  {
   "cell_type": "code",
   "execution_count": 117,
   "metadata": {},
   "outputs": [
    {
     "data": {
      "text/plain": [
       "(3.0, array([2.33333333, 0.        , 0.        , 0.66666667]))"
      ]
     },
     "execution_count": 117,
     "metadata": {},
     "output_type": "execute_result"
    }
   ],
   "source": [
    "# TEST 6\n",
    "solver = LPSolver([[1, 3, 3, 1],\n",
    "                   [2, 0, 3, -1]],\n",
    "                  [3, 4],\n",
    "                  [1, -5, -1, 1])\n",
    "solver.solve()"
   ]
  },
  {
   "cell_type": "code",
   "execution_count": 118,
   "metadata": {},
   "outputs": [
    {
     "data": {
      "text/plain": [
       "(-10.0, array([ 0.,  0., 10.,  0.,  0.]))"
      ]
     },
     "execution_count": 118,
     "metadata": {},
     "output_type": "execute_result"
    }
   ],
   "source": [
    "# TEST 7\n",
    "solver = LPSolver([[3, 1, 1, 1, -2],\n",
    "                   [-3, -1, -1, -1, 2],\n",
    "                   [6, 1, 2, 3, -4],\n",
    "                   [-6, -1, -2, -3, 4],\n",
    "                   [10, 1, 3, 6, -7],\n",
    "                   [-10, -1, -3, -6, 7]],\n",
    "                  [10, -10, 20, -20, 30, -30],\n",
    "                  [1, 1, -1, 1, -2])\n",
    "solver.solve()"
   ]
  }
 ],
 "metadata": {
  "kernelspec": {
   "display_name": "Python 3",
   "language": "python",
   "name": "python3"
  },
  "language_info": {
   "codemirror_mode": {
    "name": "ipython",
    "version": 3
   },
   "file_extension": ".py",
   "mimetype": "text/x-python",
   "name": "python",
   "nbconvert_exporter": "python",
   "pygments_lexer": "ipython3",
   "version": "3.8.5"
  }
 },
 "nbformat": 4,
 "nbformat_minor": 4
}
