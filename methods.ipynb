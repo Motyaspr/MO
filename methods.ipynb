{
 "cells": [
  {
   "cell_type": "code",
   "execution_count": 2,
   "metadata": {},
   "outputs": [],
   "source": [
    "\n",
    "phi = 0.5 * (3.0 - 5 ** (0.5))\n"
   ]
  },
  {
   "cell_type": "code",
   "execution_count": 3,
   "metadata": {
    "pycharm": {
     "name": "#%%\n"
    }
   },
   "outputs": [],
   "source": [
    "def dichotomy(f, l, r, eps, iterations):\n",
    "    if r - l < eps:\n",
    "        return (l + r) / 2.0, iterations\n",
    "    mid = (l + r) / 2\n",
    "    x1 = mid - eps / 3\n",
    "    x2 = mid + eps / 3\n",
    "    y1 = f(x1)\n",
    "    y2 = f(x2)\n",
    "    iterations += 1\n",
    "    if y1 < y2:\n",
    "        return dichotomy(f, l, x1, eps, iterations)\n",
    "    else:\n",
    "        return dichotomy(f, x2, r, eps, iterations)"
   ]
  },
  {
   "cell_type": "code",
   "execution_count": 4,
   "metadata": {
    "pycharm": {
     "name": "#%%\n"
    }
   },
   "outputs": [],
   "source": [
    "def golden(f, l, r, pred, is_first, eps, iterations =0 ):\n",
    "    if abs(r - l) < eps:\n",
    "        return (l + r) / 2.0, iterations\n",
    "    len = r - l\n",
    "    if is_first:\n",
    "        x1 = l + len * phi\n",
    "        y1 = f(x1)\n",
    "        iterations += 1\n",
    "        if (pred != []):\n",
    "            x2 = pred[0]\n",
    "            y2 = pred[1]\n",
    "        else:\n",
    "            x2 = r - len * phi\n",
    "            y2 = f(x2)\n",
    "            iterations += 1\n",
    "    else:\n",
    "        x2 = r - len * phi\n",
    "        y2 = f(x2)\n",
    "        iterations += 1\n",
    "        if (pred != []):\n",
    "            x1 = pred[0]\n",
    "            y1 = pred[1]\n",
    "        else:\n",
    "            x1 = l + len * phi\n",
    "            y1 = f(x1)\n",
    "            iterations += 1\n",
    "    if (y1 < y2):\n",
    "        return golden(f, l, x2, [x1, y1], 1, eps, iterations)\n",
    "    else:\n",
    "        return golden(f, x1, r, [x2, y2], 0, eps, iterations)"
   ]
  },
  {
   "cell_type": "code",
   "execution_count": 11,
   "metadata": {},
   "outputs": [],
   "source": [
    "def fib(f, l, r, eps):\n",
    "    fibbonaci_num = [1, 1]\n",
    "    length = r - l\n",
    "    while (fibbonaci_num[-1] < length / eps):\n",
    "        fibbonaci_num.append(fibbonaci_num[-1] + fibbonaci_num[-2])\n",
    "    n = len(fibbonaci_num) - 2\n",
    "    x1 = l + fibbonaci_num[n - 1] * length / fibbonaci_num[n + 1]\n",
    "    x2 = l + fibbonaci_num[n] * length / fibbonaci_num[n + 1]\n",
    "    cnt = 2\n",
    "    y1 = f(x1)\n",
    "    y2 = f(x2)\n",
    "    for i in range(1, n):\n",
    "        if (y1 < y2):\n",
    "            y2 = y1\n",
    "            r = x2\n",
    "            x2 = x1\n",
    "            x1 = l + fibbonaci_num[n - i] / fibbonaci_num[n + 2 - i] * (r - l)\n",
    "            y1 = f(x1)\n",
    "        else:\n",
    "            y1 = y2\n",
    "            l = x1\n",
    "            x1 = x2\n",
    "            x2 = l + fibbonaci_num[n + 1 - i] / fibbonaci_num[n + 2 - i] * (r - l)\n",
    "            y2 = f(x2)\n",
    "        cnt += 1 \n",
    "    return (l + r) / 2.0, cnt"
   ]
  },
  {
   "cell_type": "code",
   "execution_count": 17,
   "metadata": {
    "pycharm": {
     "name": "#%%\n"
    }
   },
   "outputs": [
    {
     "name": "stdout",
     "output_type": "stream",
     "text": [
      "0.08583333333333334 0.3121071643186969 0.505\n",
      "Win 2 2 2\n",
      "0.16854166666666667 0.19289283568130305 0.1673372781065089\n",
      "Win 6 6 6\n",
      "0.1634635416666667 0.16475015023087825 0.16688831953222533\n",
      "Win 12 11 11\n",
      "0.1669596354166667 0.16654730578468624 0.16631388012040588\n",
      "Win 20 16 16\n",
      "0.1666054728190104 0.1666680902873836 0.16666055055736792\n",
      "Win 26 21 20\n",
      "0.16666410283406574 0.1666613591977466 0.16665786739960087\n",
      "Win 32 25 25\n",
      "Lose dichotomy\n",
      "Lose gold\n",
      "Lose fib\n",
      "0.16666177828439077 0.16666152695238234 0.16666183034642973\n",
      "Win 40 30 30\n",
      "Lose dichotomy\n",
      "Lose gold\n",
      "Lose fib\n",
      "0.16666143747100431 0.16666141392567024 0.16666144275370537\n",
      "Win 46 35 35\n"
     ]
    }
   ],
   "source": [
    "def check():\n",
    "    def f1(x): return 3*(0.3611 - 3.1667 * x)** 2 + (0.3611 - 3.1667 * x) -7\n",
    "    epses = [10 ** (-i) for i in range(0, 8)]\n",
    "    #borders = [[-100, 100], [-1000, 1000], [-1, 10000], [-100000, 10]]\n",
    "    borders = [[0, 1.01]]\n",
    "    for eps in epses:\n",
    "        for bord in borders:\n",
    "            x = dichotomy(f1, bord[0], bord[1], eps, 0)\n",
    "            t = golden(f1, bord[0], bord[1], [], 1, eps, 0)\n",
    "            v = fib(f1, bord[0], bord[1], eps)\n",
    "            if (abs(x[0] - 1 / 6) > eps):\n",
    "                print(\"Lose dichotomy\")\n",
    "            if abs(t[0] - 1 / 6) > eps:\n",
    "                print(\"Lose gold\")\n",
    "            if abs(v[0] - 1 / 6) > eps:\n",
    "                print(\"Lose fib\")\n",
    "            print(x[0], t[0], v[0])\n",
    "            print(\"Win\",  x[1], t[1], v[1])\n",
    "\n",
    "check()"
   ]
  },
  {
   "cell_type": "code",
   "execution_count": null,
   "metadata": {},
   "outputs": [],
   "source": []
  },
  {
   "cell_type": "code",
   "execution_count": null,
   "metadata": {},
   "outputs": [],
   "source": []
  }
 ],
 "metadata": {
  "kernelspec": {
   "display_name": "Python 3",
   "language": "python",
   "name": "python3"
  },
  "language_info": {
   "codemirror_mode": {
    "name": "ipython",
    "version": 3
   },
   "file_extension": ".py",
   "mimetype": "text/x-python",
   "name": "python",
   "nbconvert_exporter": "python",
   "pygments_lexer": "ipython3",
   "version": "3.7.0"
  }
 },
 "nbformat": 4,
 "nbformat_minor": 1
}
