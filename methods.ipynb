{
 "cells": [
  {
   "cell_type": "code",
   "execution_count": 2,
   "metadata": {},
   "outputs": [],
   "source": [
    "\n",
    "phi = 0.5 * (3.0 - 5 ** (0.5))\n"
   ]
  },
  {
   "cell_type": "code",
   "execution_count": 3,
   "metadata": {
    "pycharm": {
     "name": "#%%\n"
    }
   },
   "outputs": [],
   "source": [
    "def dichotomy(f, l, r, eps, iterations):\n",
    "    if r - l < eps:\n",
    "        return (l + r) / 2.0, iterations\n",
    "    mid = (l + r) / 2\n",
    "    x1 = mid - eps / 3\n",
    "    x2 = mid + eps / 3\n",
    "    y1 = f(x1)\n",
    "    y2 = f(x2)\n",
    "    iterations += 1\n",
    "    if y1 < y2:\n",
    "        print(\"dich shorter: \", (x1 - l) / (r - l))\n",
    "        return dichotomy(f, l, x1, eps, iterations)\n",
    "    else:\n",
    "        print(\"dich shorter: \", (r - x2) / (r - l))\n",
    "        return dichotomy(f, x2, r, eps, iterations)"
   ]
  },
  {
   "cell_type": "code",
   "execution_count": 7,
   "metadata": {
    "pycharm": {
     "name": "#%%\n"
    }
   },
   "outputs": [],
   "source": [
    "def golden(f, l, r, pred, is_first, eps, iterations =0 ):\n",
    "    if abs(r - l) < eps:\n",
    "        return (l + r) / 2.0, iterations\n",
    "    len = r - l\n",
    "    if is_first:\n",
    "        x1 = l + len * phi\n",
    "        y1 = f(x1)\n",
    "        iterations += 1\n",
    "        if (pred != []):\n",
    "            x2 = pred[0]\n",
    "            y2 = pred[1]\n",
    "        else:\n",
    "            x2 = r - len * phi\n",
    "            y2 = f(x2)\n",
    "            iterations += 1\n",
    "    else:\n",
    "        x2 = r - len * phi\n",
    "        y2 = f(x2)\n",
    "        iterations += 1\n",
    "        if (pred != []):\n",
    "            x1 = pred[0]\n",
    "            y1 = pred[1]\n",
    "        else:\n",
    "            x1 = l + len * phi\n",
    "            y1 = f(x1)\n",
    "            iterations += 1\n",
    "    if (y1 < y2):\n",
    "        print(\"golden shorter:\", (x2 - l) / (r - l))\n",
    "        return golden(f, l, x2, [x1, y1], 1, eps, iterations)\n",
    "    else:\n",
    "        print(\"golden shorter:\", (r - x1) / (r - l))\n",
    "        return golden(f, x1, r, [x2, y2], 0, eps, iterations)"
   ]
  },
  {
   "cell_type": "code",
   "execution_count": 5,
   "metadata": {},
   "outputs": [],
   "source": [
    "def fib(f, l, r, eps):\n",
    "    fibbonaci_num = [1, 1]\n",
    "    length = r - l\n",
    "    while (fibbonaci_num[-1] < length / eps):\n",
    "        fibbonaci_num.append(fibbonaci_num[-1] + fibbonaci_num[-2])\n",
    "    n = len(fibbonaci_num) - 2\n",
    "    x1 = l + fibbonaci_num[n - 1] * length / fibbonaci_num[n + 1]\n",
    "    x2 = l + fibbonaci_num[n] * length / fibbonaci_num[n + 1]\n",
    "    cnt = 2\n",
    "    y1 = f(x1)\n",
    "    y2 = f(x2)\n",
    "    for i in range(1, n):\n",
    "        pred_l = l\n",
    "        pred_r = r\n",
    "        if (y1 < y2):\n",
    "            y2 = y1\n",
    "            r = x2\n",
    "            x2 = x1\n",
    "            x1 = l + fibbonaci_num[n - i] / fibbonaci_num[n + 2 - i] * (r - l)\n",
    "            y1 = f(x1)\n",
    "        else:\n",
    "            y1 = y2\n",
    "            l = x1\n",
    "            x1 = x2\n",
    "            x2 = l + fibbonaci_num[n + 1 - i] / fibbonaci_num[n + 2 - i] * (r - l)\n",
    "            y2 = f(x2)\n",
    "        print(\"fib shorter:\", (r - l) / (pred_r - pred_l))\n",
    "        cnt += 1 \n",
    "    return (l + r) / 2.0, cnt"
   ]
  },
  {
   "cell_type": "code",
   "execution_count": 8,
   "metadata": {
    "pycharm": {
     "name": "#%%\n"
    }
   },
   "outputs": [
    {
     "name": "stdout",
     "output_type": "stream",
     "text": [
      "dich shorter:  0.49999966996699663\n",
      "dich shorter:  0.4999993399335577\n",
      "dich shorter:  0.4999986798653727\n",
      "dich shorter:  0.49999735972377424\n",
      "dich shorter:  0.4999947194196643\n",
      "dich shorter:  0.4999894387277891\n",
      "dich shorter:  0.499978877009407\n",
      "dich shorter:  0.4999577522340157\n",
      "dich shorter:  0.49991549732793306\n",
      "dich shorter:  0.49983096608823174\n",
      "dich shorter:  0.49966181784795943\n",
      "dich shorter:  0.499323177917622\n",
      "dich shorter:  0.4986445209990039\n",
      "dich shorter:  0.49728167272693485\n",
      "dich shorter:  0.49453362667045686\n",
      "dich shorter:  0.48894640721128185\n",
      "dich shorter:  0.4773930381209619\n",
      "dich shorter:  0.4526449695034933\n",
      "dich shorter:  0.3953815160070144\n",
      "dich shorter:  0.235398647236889\n",
      "golden shorter: 0.6180339887498948\n",
      "golden shorter: 0.6180339887498948\n",
      "golden shorter: 0.6180339887498949\n",
      "golden shorter: 0.6180339887498947\n",
      "golden shorter: 0.6180339887498949\n",
      "golden shorter: 0.6180339887498948\n",
      "golden shorter: 0.6180339887498949\n",
      "golden shorter: 0.6180339887498948\n",
      "golden shorter: 0.6180339887498949\n",
      "golden shorter: 0.6180339887498947\n",
      "golden shorter: 0.6180339887498948\n",
      "golden shorter: 0.6180339887498948\n",
      "golden shorter: 0.6180339887498948\n",
      "golden shorter: 0.6180339887498948\n",
      "golden shorter: 0.6180339887498948\n",
      "golden shorter: 0.6180339887498948\n",
      "golden shorter: 0.6180339887498948\n",
      "golden shorter: 0.6180339887498948\n",
      "golden shorter: 0.6180339887498948\n",
      "golden shorter: 0.6180339887498948\n",
      "golden shorter: 0.6180339887498948\n",
      "golden shorter: 0.6180339887498948\n",
      "golden shorter: 0.6180339887498948\n",
      "golden shorter: 0.6180339887498948\n",
      "golden shorter: 0.6180339887498949\n",
      "golden shorter: 0.6180339887498948\n",
      "golden shorter: 0.6180339887498949\n",
      "golden shorter: 0.6180339887498947\n",
      "golden shorter: 0.6180339887498949\n",
      "fib shorter: 0.6180339887496482\n",
      "fib shorter: 0.6180339887505407\n",
      "fib shorter: 0.6180339887496482\n",
      "fib shorter: 0.6180339887490962\n",
      "fib shorter: 0.61803398875343\n",
      "fib shorter: 0.6180339887391956\n",
      "fib shorter: 0.61803398877935\n",
      "fib shorter: 0.6180339886713357\n",
      "fib shorter: 0.6180339889570095\n",
      "fib shorter: 0.6180339882062176\n",
      "fib shorter: 0.6180339901747045\n",
      "fib shorter: 0.6180339850182506\n",
      "fib shorter: 0.6180339985209107\n",
      "fib shorter: 0.6180339631675992\n",
      "fib shorter: 0.6180340557266615\n",
      "fib shorter: 0.618033813401018\n",
      "fib shorter: 0.618034447820789\n",
      "fib shorter: 0.6180327868861387\n",
      "fib shorter: 0.6180371352776218\n",
      "fib shorter: 0.618025751073854\n",
      "fib shorter: 0.6180555555546628\n",
      "fib shorter: 0.6179775280907802\n",
      "fib shorter: 0.6181818181809253\n",
      "fib shorter: 0.6176470588244215\n",
      "fib shorter: 0.6190476190467249\n",
      "fib shorter: 0.6153846153855043\n",
      "fib shorter: 0.6249999999990973\n",
      "fib shorter: 0.6000000000008665\n",
      "1.4827251434326172e-07 4.391873381852232e-07 6.954936145429101e-07\n",
      "Win 20 30 30\n"
     ]
    }
   ],
   "source": [
    "def check():\n",
    "    def f1(x): return x * x\n",
    "    ans = 0\n",
    "    epses = [10 ** (-i) for i in range(6, 7)]\n",
    "    #borders = [[-100, 100], [-1000, 1000], [-1, 10000], [-100000, 10]]\n",
    "    borders = [[0, 1.01]]\n",
    "    for eps in epses:\n",
    "        for bord in borders:\n",
    "            x = dichotomy(f1, bord[0], bord[1], eps, 0)\n",
    "            t = golden(f1, bord[0], bord[1], [], 1, eps, 0)\n",
    "            v = fib(f1, bord[0], bord[1], eps)\n",
    "            if (abs(x[0] - ans) > eps):\n",
    "                print(\"Lose dichotomy\")\n",
    "            if abs(t[0] - ans) > eps:\n",
    "                print(\"Lose gold\")\n",
    "            if abs(v[0] - ans) > eps:\n",
    "                print(\"Lose fib\")\n",
    "            print(x[0], t[0], v[0])\n",
    "            print(\"Win\",  x[1], t[1], v[1])\n",
    "\n",
    "check()"
   ]
  },
  {
   "cell_type": "code",
   "execution_count": null,
   "metadata": {},
   "outputs": [],
   "source": []
  },
  {
   "cell_type": "code",
   "execution_count": null,
   "metadata": {},
   "outputs": [],
   "source": []
  }
 ],
 "metadata": {
  "kernelspec": {
   "display_name": "Python 3",
   "language": "python",
   "name": "python3"
  },
  "language_info": {
   "codemirror_mode": {
    "name": "ipython",
    "version": 3
   },
   "file_extension": ".py",
   "mimetype": "text/x-python",
   "name": "python",
   "nbconvert_exporter": "python",
   "pygments_lexer": "ipython3",
   "version": "3.8.5"
  }
 },
 "nbformat": 4,
 "nbformat_minor": 4
}
